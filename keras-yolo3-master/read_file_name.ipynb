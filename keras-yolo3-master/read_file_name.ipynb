{
 "cells": [
  {
   "cell_type": "code",
   "execution_count": 2,
   "metadata": {},
   "outputs": [],
   "source": [
    "import os"
   ]
  },
  {
   "cell_type": "code",
   "execution_count": 6,
   "metadata": {},
   "outputs": [],
   "source": [
    "sets = ['train','test', 'val']\n",
    "\n",
    "    for set_ in sets:\n",
    "        with open('VOCdevkit/VOC2018/ImageSets/Main/'+set_+'.txt','w') as f:\n",
    "            l=os.listdir('VOCdevkit/VOC2018/data/'+set_)\n",
    "            for i in l:\n",
    "                li=i.split('.')[0] \n",
    "                f.writelines(li+'\\n')"
   ]
  },
  {
   "cell_type": "code",
   "execution_count": 5,
   "metadata": {},
   "outputs": [],
   "source": [
    "f_train = open('VOCdevkit/VOC2018/ImageSets/Main/train.txt','w')\n",
    "f_test = open('VOCdevkit/VOC2018/ImageSets/Main/test.txt','w')\n",
    "f_val = open('VOCdevkit/VOC2018/ImageSets/Main/val.txt','w')\n",
    "l = os.listdir('VOCdevkit/VOC2018/Annotations/')\n",
    "for i in range(len(l)):\n",
    "    li = l[i].split('.')[0]\n",
    "    if i <= 200:\n",
    "        f_val.writelines(li+'\\n')\n",
    "    elif i>200 and i<600:\n",
    "        f_test.writelines(li+'\\n')\n",
    "    else:\n",
    "        f_train.writelines(li+'\\n')\n",
    "f_train.close()\n",
    "f_test.close()\n",
    "f_val.close()\n",
    "        \n",
    "           "
   ]
  },
  {
   "cell_type": "code",
   "execution_count": null,
   "metadata": {},
   "outputs": [],
   "source": []
  }
 ],
 "metadata": {
  "kernelspec": {
   "display_name": "Python 3",
   "language": "python",
   "name": "python3"
  },
  "language_info": {
   "codemirror_mode": {
    "name": "ipython",
    "version": 3
   },
   "file_extension": ".py",
   "mimetype": "text/x-python",
   "name": "python",
   "nbconvert_exporter": "python",
   "pygments_lexer": "ipython3",
   "version": "3.6.5"
  }
 },
 "nbformat": 4,
 "nbformat_minor": 2
}
